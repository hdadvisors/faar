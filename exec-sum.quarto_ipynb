{
  "cells": [
    {
      "cell_type": "markdown",
      "metadata": {},
      "source": [
        "# Executive summary {#sec-exec-sum .unnumbered}\n",
        "\n",
        "\n",
        "\n",
        "\n",
        "\n",
        "```{css, echo=FALSE}\n",
        "img.figure-img {\n",
        "  width: 60%;\n",
        "}\n",
        "```\n",
        "\n",
        "\n",
        "\n",
        "\n",
        "\n",
        "![](img/exec-sum.png){width=300}\n",
        "\n",
        "[link](pdf/FAAR Housing Study - Executive Summary.pdf)"
      ],
      "id": "5039d840"
    }
  ],
  "metadata": {
    "kernelspec": {
      "display_name": "Python 3",
      "language": "python",
      "name": "python3"
    }
  },
  "nbformat": 4,
  "nbformat_minor": 5
}